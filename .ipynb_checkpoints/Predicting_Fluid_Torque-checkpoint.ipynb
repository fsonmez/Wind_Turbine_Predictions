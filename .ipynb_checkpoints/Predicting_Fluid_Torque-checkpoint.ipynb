{
 "cells": [
  {
   "cell_type": "markdown",
   "metadata": {},
   "source": [
    "# Predicting Fluid Torque on Vertical Axis Wind Turbines\n",
    "\n",
    "## The Problem\n",
    "\n",
    "Vertical Axis Wind Turbines (VAWTs) can suffer mechanical damage if they do not break before reaching peak generator power. Breaking these turbines too far in advance, however, leads to lower power output. It is therefore important to predict the fluid torque that may cause a turbine to reach this state before it happens.\n",
    "\n",
    "\n",
    "## The Data\n",
    "\n",
    "## The Conclusions\n",
    "\n",
    "## The Approach\n",
    "\n",
    "TauF = ddTheta*I-ThetaC\n",
    "\n",
    "\n",
    "I = .0085 kg*m^2\n",
    "\n",
    "All units are SI\n",
    "\n",
    "Data was recorded at 1000 Hz\n",
    "\n",
    "dTheta and ddTheta use future info. Extension: make past info only versions"
   ]
  },
  {
   "cell_type": "code",
   "execution_count": 1,
   "metadata": {},
   "outputs": [],
   "source": [
    "#load packages\n",
    "import pandas as pd\n",
    "import json\n",
    "import os"
   ]
  },
  {
   "cell_type": "code",
   "execution_count": 2,
   "metadata": {},
   "outputs": [
    {
     "data": {
      "text/plain": [
       "['pointData.mat',\n",
       " 'pointData copy 8.mat',\n",
       " 'run_09.txt',\n",
       " 'pointData copy.mat',\n",
       " 'run_08.txt',\n",
       " 'pointData copy 6.mat',\n",
       " 'run_05.txt',\n",
       " 'run_04.txt',\n",
       " 'pointData copy 7.mat',\n",
       " 'pointData copy 5.mat',\n",
       " 'run_06.txt',\n",
       " 'run_07.txt',\n",
       " 'pointData copy 4.mat',\n",
       " 'run_03.txt',\n",
       " 'run_02.txt',\n",
       " 'pointData copy 3.mat',\n",
       " 'run_01.txt',\n",
       " 'pointData copy 2.mat']"
      ]
     },
     "execution_count": 2,
     "metadata": {},
     "output_type": "execute_result"
    }
   ],
   "source": [
    "cwd = os.getcwd()\n",
    "data_dir = cwd + '/raw_data/high_turbulence'\n",
    "os.listdir(data_dir)"
   ]
  },
  {
   "cell_type": "code",
   "execution_count": 12,
   "metadata": {},
   "outputs": [],
   "source": [
    "def load_all_runs(directory, max_run):\n",
    "    for i in range(1,max_run+1):\n",
    "        with open(data_dir + '/run_0'+str(i)+'.txt') as json_data:\n",
    "            data = json.load(json_data)\n",
    "        df = pd.DataFrame.from_dict(data, orient = 'index')\n",
    "        df = df.transpose()\n",
    "        df['run']=i\n",
    "        if i == 1:\n",
    "            df_all = df\n",
    "        else:\n",
    "            df_all = pd.concat([df_all,df],axis=0,ignore_index=True)\n",
    "    return df_all"
   ]
  },
  {
   "cell_type": "code",
   "execution_count": 13,
   "metadata": {},
   "outputs": [],
   "source": [
    "df_all = load_all_runs(data_dir,9)"
   ]
  },
  {
   "cell_type": "code",
   "execution_count": 14,
   "metadata": {},
   "outputs": [
    {
     "data": {
      "text/html": [
       "<div>\n",
       "<style scoped>\n",
       "    .dataframe tbody tr th:only-of-type {\n",
       "        vertical-align: middle;\n",
       "    }\n",
       "\n",
       "    .dataframe tbody tr th {\n",
       "        vertical-align: top;\n",
       "    }\n",
       "\n",
       "    .dataframe thead th {\n",
       "        text-align: right;\n",
       "    }\n",
       "</style>\n",
       "<table border=\"1\" class=\"dataframe\">\n",
       "  <thead>\n",
       "    <tr style=\"text-align: right;\">\n",
       "      <th></th>\n",
       "      <th>torque</th>\n",
       "      <th>theta</th>\n",
       "      <th>dtheta</th>\n",
       "      <th>ddtheta</th>\n",
       "      <th>power</th>\n",
       "      <th>u</th>\n",
       "      <th>uInds</th>\n",
       "      <th>run</th>\n",
       "    </tr>\n",
       "  </thead>\n",
       "  <tbody>\n",
       "    <tr>\n",
       "      <th>0</th>\n",
       "      <td>0.154538</td>\n",
       "      <td>4.688990</td>\n",
       "      <td>16.394420</td>\n",
       "      <td>23.968450</td>\n",
       "      <td>2.533564</td>\n",
       "      <td>0.685006</td>\n",
       "      <td>1.0</td>\n",
       "      <td>1</td>\n",
       "    </tr>\n",
       "    <tr>\n",
       "      <th>1</th>\n",
       "      <td>0.125633</td>\n",
       "      <td>4.705385</td>\n",
       "      <td>16.406404</td>\n",
       "      <td>23.968450</td>\n",
       "      <td>2.061193</td>\n",
       "      <td>0.677085</td>\n",
       "      <td>1.0</td>\n",
       "      <td>1</td>\n",
       "    </tr>\n",
       "    <tr>\n",
       "      <th>2</th>\n",
       "      <td>0.053472</td>\n",
       "      <td>4.721803</td>\n",
       "      <td>16.438362</td>\n",
       "      <td>47.936900</td>\n",
       "      <td>0.878988</td>\n",
       "      <td>0.681375</td>\n",
       "      <td>1.0</td>\n",
       "      <td>1</td>\n",
       "    </tr>\n",
       "    <tr>\n",
       "      <th>3</th>\n",
       "      <td>0.061200</td>\n",
       "      <td>4.738269</td>\n",
       "      <td>16.497998</td>\n",
       "      <td>46.224867</td>\n",
       "      <td>1.009681</td>\n",
       "      <td>0.640711</td>\n",
       "      <td>1.0</td>\n",
       "      <td>1</td>\n",
       "    </tr>\n",
       "    <tr>\n",
       "      <th>4</th>\n",
       "      <td>0.136655</td>\n",
       "      <td>4.754808</td>\n",
       "      <td>16.543537</td>\n",
       "      <td>40.881252</td>\n",
       "      <td>2.260764</td>\n",
       "      <td>0.671847</td>\n",
       "      <td>1.0</td>\n",
       "      <td>1</td>\n",
       "    </tr>\n",
       "  </tbody>\n",
       "</table>\n",
       "</div>"
      ],
      "text/plain": [
       "     torque     theta     dtheta    ddtheta     power         u  uInds  run\n",
       "0  0.154538  4.688990  16.394420  23.968450  2.533564  0.685006    1.0    1\n",
       "1  0.125633  4.705385  16.406404  23.968450  2.061193  0.677085    1.0    1\n",
       "2  0.053472  4.721803  16.438362  47.936900  0.878988  0.681375    1.0    1\n",
       "3  0.061200  4.738269  16.497998  46.224867  1.009681  0.640711    1.0    1\n",
       "4  0.136655  4.754808  16.543537  40.881252  2.260764  0.671847    1.0    1"
      ]
     },
     "execution_count": 14,
     "metadata": {},
     "output_type": "execute_result"
    }
   ],
   "source": [
    "df_all.head()"
   ]
  },
  {
   "cell_type": "code",
   "execution_count": 20,
   "metadata": {},
   "outputs": [
    {
     "data": {
      "text/plain": [
       "torque          0\n",
       "theta           0\n",
       "dtheta          0\n",
       "ddtheta         0\n",
       "power           0\n",
       "u          167212\n",
       "uInds      167212\n",
       "run             0\n",
       "dtype: int64"
      ]
     },
     "execution_count": 20,
     "metadata": {},
     "output_type": "execute_result"
    }
   ],
   "source": [
    "df_all.isna().sum()"
   ]
  },
  {
   "cell_type": "code",
   "execution_count": 21,
   "metadata": {},
   "outputs": [
    {
     "data": {
      "text/plain": [
       "<matplotlib.axes._subplots.AxesSubplot at 0x1146799e8>"
      ]
     },
     "execution_count": 21,
     "metadata": {},
     "output_type": "execute_result"
    },
    {
     "data": {
      "image/png": "[encoded data removed]",
      "text/plain": [
       "<Figure size 432x288 with 1 Axes>"
      ]
     },
     "metadata": {
      "needs_background": "light"
     },
     "output_type": "display_data"
    }
   ],
   "source": [
    "df_all.plot(y='power')"
   ]
  },
  {
   "cell_type": "code",
   "execution_count": 18,
   "metadata": {},
   "outputs": [
    {
     "data": {
      "text/plain": [
       "<matplotlib.axes._subplots.AxesSubplot at 0x113dfcda0>"
      ]
     },
     "execution_count": 18,
     "metadata": {},
     "output_type": "execute_result"
    },
    {
     "data": {
      "image/png": "[encoded data removed]",
      "text/plain": [
       "<Figure size 432x288 with 1 Axes>"
      ]
     },
     "metadata": {
      "needs_background": "light"
     },
     "output_type": "display_data"
    }
   ],
   "source": [
    "df_all.plot(y='theta')"
   ]
  },
  {
   "cell_type": "code",
   "execution_count": 19,
   "metadata": {},
   "outputs": [
    {
     "data": {
      "text/plain": [
       "<matplotlib.axes._subplots.AxesSubplot at 0x11454f2e8>"
      ]
     },
     "execution_count": 19,
     "metadata": {},
     "output_type": "execute_result"
    },
    {
     "data": {
      "image/png": "[encoded data removed]",
      "text/plain": [
       "<Figure size 432x288 with 1 Axes>"
      ]
     },
     "metadata": {
      "needs_background": "light"
     },
     "output_type": "display_data"
    }
   ],
   "source": [
    "df_all.plot(x='theta',y='dtheta',kind='scatter')"
   ]
  },
  {
   "cell_type": "markdown",
   "metadata": {},
   "source": [
    "TauF = ddTheta*I-ThetaC\n",
    "\n",
    "\n",
    "I = .0085 kg*m^2"
   ]
  },
  {
   "cell_type": "code",
   "execution_count": 22,
   "metadata": {},
   "outputs": [
    {
     "data": {
      "text/plain": [
       "<matplotlib.axes._subplots.AxesSubplot at 0x113c7bc50>"
      ]
     },
     "execution_count": 22,
     "metadata": {},
     "output_type": "execute_result"
    },
    {
     "data": {
      "image/png": "[encoded data removed]",
      "text/plain": [
       "<Figure size 432x288 with 1 Axes>"
      ]
     },
     "metadata": {
      "needs_background": "light"
     },
     "output_type": "display_data"
    }
   ],
   "source": [
    "df_all.plot(y='torque')"
   ]
  },
  {
   "cell_type": "code",
   "execution_count": 23,
   "metadata": {},
   "outputs": [],
   "source": [
    "df_all['torque_mean']=df['torque'].rolling(1000).mean()"
   ]
  },
  {
   "cell_type": "code",
   "execution_count": 24,
   "metadata": {},
   "outputs": [
    {
     "data": {
      "text/plain": [
       "<matplotlib.axes._subplots.AxesSubplot at 0x113ea4a58>"
      ]
     },
     "execution_count": 24,
     "metadata": {},
     "output_type": "execute_result"
    },
    {
     "data": {
      "image/png": "[encoded data removed]",
      "text/plain": [
       "<Figure size 432x288 with 1 Axes>"
      ]
     },
     "metadata": {
      "needs_background": "light"
     },
     "output_type": "display_data"
    }
   ],
   "source": [
    "df_all.plot(y='torque_mean')"
   ]
  },
  {
   "cell_type": "code",
   "execution_count": 25,
   "metadata": {},
   "outputs": [],
   "source": [
    "#add column for fluid torque\n",
    "I = .0085 #kg/m^2\n",
    "df_all['fluid_torque'] = df_all['ddtheta']*I -df_all['torque'] "
   ]
  },
  {
   "cell_type": "code",
   "execution_count": 26,
   "metadata": {},
   "outputs": [
    {
     "data": {
      "text/html": [
       "<div>\n",
       "<style scoped>\n",
       "    .dataframe tbody tr th:only-of-type {\n",
       "        vertical-align: middle;\n",
       "    }\n",
       "\n",
       "    .dataframe tbody tr th {\n",
       "        vertical-align: top;\n",
       "    }\n",
       "\n",
       "    .dataframe thead th {\n",
       "        text-align: right;\n",
       "    }\n",
       "</style>\n",
       "<table border=\"1\" class=\"dataframe\">\n",
       "  <thead>\n",
       "    <tr style=\"text-align: right;\">\n",
       "      <th></th>\n",
       "      <th>torque</th>\n",
       "      <th>theta</th>\n",
       "      <th>dtheta</th>\n",
       "      <th>ddtheta</th>\n",
       "      <th>power</th>\n",
       "      <th>u</th>\n",
       "      <th>uInds</th>\n",
       "      <th>run</th>\n",
       "      <th>torque_mean</th>\n",
       "      <th>fluid_torque</th>\n",
       "    </tr>\n",
       "  </thead>\n",
       "  <tbody>\n",
       "    <tr>\n",
       "      <th>0</th>\n",
       "      <td>0.154538</td>\n",
       "      <td>4.688990</td>\n",
       "      <td>16.394420</td>\n",
       "      <td>23.968450</td>\n",
       "      <td>2.533564</td>\n",
       "      <td>0.685006</td>\n",
       "      <td>1.0</td>\n",
       "      <td>1</td>\n",
       "      <td>NaN</td>\n",
       "      <td>0.049194</td>\n",
       "    </tr>\n",
       "    <tr>\n",
       "      <th>1</th>\n",
       "      <td>0.125633</td>\n",
       "      <td>4.705385</td>\n",
       "      <td>16.406404</td>\n",
       "      <td>23.968450</td>\n",
       "      <td>2.061193</td>\n",
       "      <td>0.677085</td>\n",
       "      <td>1.0</td>\n",
       "      <td>1</td>\n",
       "      <td>NaN</td>\n",
       "      <td>0.078098</td>\n",
       "    </tr>\n",
       "    <tr>\n",
       "      <th>2</th>\n",
       "      <td>0.053472</td>\n",
       "      <td>4.721803</td>\n",
       "      <td>16.438362</td>\n",
       "      <td>47.936900</td>\n",
       "      <td>0.878988</td>\n",
       "      <td>0.681375</td>\n",
       "      <td>1.0</td>\n",
       "      <td>1</td>\n",
       "      <td>NaN</td>\n",
       "      <td>0.353992</td>\n",
       "    </tr>\n",
       "    <tr>\n",
       "      <th>3</th>\n",
       "      <td>0.061200</td>\n",
       "      <td>4.738269</td>\n",
       "      <td>16.497998</td>\n",
       "      <td>46.224867</td>\n",
       "      <td>1.009681</td>\n",
       "      <td>0.640711</td>\n",
       "      <td>1.0</td>\n",
       "      <td>1</td>\n",
       "      <td>NaN</td>\n",
       "      <td>0.331711</td>\n",
       "    </tr>\n",
       "    <tr>\n",
       "      <th>4</th>\n",
       "      <td>0.136655</td>\n",
       "      <td>4.754808</td>\n",
       "      <td>16.543537</td>\n",
       "      <td>40.881252</td>\n",
       "      <td>2.260764</td>\n",
       "      <td>0.671847</td>\n",
       "      <td>1.0</td>\n",
       "      <td>1</td>\n",
       "      <td>NaN</td>\n",
       "      <td>0.210835</td>\n",
       "    </tr>\n",
       "  </tbody>\n",
       "</table>\n",
       "</div>"
      ],
      "text/plain": [
       "     torque     theta     dtheta    ddtheta     power         u  uInds  run  \\\n",
       "0  0.154538  4.688990  16.394420  23.968450  2.533564  0.685006    1.0    1   \n",
       "1  0.125633  4.705385  16.406404  23.968450  2.061193  0.677085    1.0    1   \n",
       "2  0.053472  4.721803  16.438362  47.936900  0.878988  0.681375    1.0    1   \n",
       "3  0.061200  4.738269  16.497998  46.224867  1.009681  0.640711    1.0    1   \n",
       "4  0.136655  4.754808  16.543537  40.881252  2.260764  0.671847    1.0    1   \n",
       "\n",
       "   torque_mean  fluid_torque  \n",
       "0          NaN      0.049194  \n",
       "1          NaN      0.078098  \n",
       "2          NaN      0.353992  \n",
       "3          NaN      0.331711  \n",
       "4          NaN      0.210835  "
      ]
     },
     "execution_count": 26,
     "metadata": {},
     "output_type": "execute_result"
    }
   ],
   "source": [
    "df_all.head()"
   ]
  },
  {
   "cell_type": "code",
   "execution_count": 28,
   "metadata": {},
   "outputs": [
    {
     "data": {
      "text/plain": [
       "array([[<matplotlib.axes._subplots.AxesSubplot object at 0x11ed642b0>]],\n",
       "      dtype=object)"
      ]
     },
     "execution_count": 28,
     "metadata": {},
     "output_type": "execute_result"
    },
    {
     "data": {
      "image/png": "[encoded data removed]",
      "text/plain": [
       "<Figure size 432x288 with 1 Axes>"
      ]
     },
     "metadata": {
      "needs_background": "light"
     },
     "output_type": "display_data"
    }
   ],
   "source": [
    "df_all.hist(column='torque')"
   ]
  },
  {
   "cell_type": "code",
   "execution_count": 29,
   "metadata": {},
   "outputs": [
    {
     "data": {
      "text/plain": [
       "array([[<matplotlib.axes._subplots.AxesSubplot object at 0x11ea57e48>,\n",
       "        <matplotlib.axes._subplots.AxesSubplot object at 0x113b99470>,\n",
       "        <matplotlib.axes._subplots.AxesSubplot object at 0x11e72bb00>],\n",
       "       [<matplotlib.axes._subplots.AxesSubplot object at 0x1147021d0>,\n",
       "        <matplotlib.axes._subplots.AxesSubplot object at 0x11472a860>,\n",
       "        <matplotlib.axes._subplots.AxesSubplot object at 0x11472a898>],\n",
       "       [<matplotlib.axes._subplots.AxesSubplot object at 0x1161395c0>,\n",
       "        <matplotlib.axes._subplots.AxesSubplot object at 0x116160c50>,\n",
       "        <matplotlib.axes._subplots.AxesSubplot object at 0x116190320>],\n",
       "       [<matplotlib.axes._subplots.AxesSubplot object at 0x1161b79b0>,\n",
       "        <matplotlib.axes._subplots.AxesSubplot object at 0x1161ea080>,\n",
       "        <matplotlib.axes._subplots.AxesSubplot object at 0x116211710>]],\n",
       "      dtype=object)"
      ]
     },
     "execution_count": 29,
     "metadata": {},
     "output_type": "execute_result"
    },
    {
     "data": {
      "image/png": "[encoded data removed]",
      "text/plain": [
       "<Figure size 432x288 with 12 Axes>"
      ]
     },
     "metadata": {
      "needs_background": "light"
     },
     "output_type": "display_data"
    }
   ],
   "source": [
    "df_all.hist()"
   ]
  },
  {
   "cell_type": "code",
   "execution_count": null,
   "metadata": {},
   "outputs": [],
   "source": []
  }
 ],
 "metadata": {
  "kernelspec": {
   "display_name": "Python 3",
   "language": "python",
   "name": "python3"
  },
  "language_info": {
   "codemirror_mode": {
    "name": "ipython",
    "version": 3
   },
   "file_extension": ".py",
   "mimetype": "text/x-python",
   "name": "python",
   "nbconvert_exporter": "python",
   "pygments_lexer": "ipython3",
   "version": "3.6.6"
  }
 },
 "nbformat": 4,
 "nbformat_minor": 2
}
